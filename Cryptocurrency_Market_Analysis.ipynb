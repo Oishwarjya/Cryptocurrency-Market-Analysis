{
  "nbformat": 4,
  "nbformat_minor": 0,
  "metadata": {
    "kernelspec": {
      "language": "python",
      "display_name": "Python 3",
      "name": "python3"
    },
    "language_info": {
      "name": "python",
      "version": "3.7.10",
      "mimetype": "text/x-python",
      "codemirror_mode": {
        "name": "ipython",
        "version": 3
      },
      "pygments_lexer": "ipython3",
      "nbconvert_exporter": "python",
      "file_extension": ".py"
    },
    "colab": {
      "name": "Cryptocurrency-Market-Analysis.ipynb",
      "provenance": []
    },
    "accelerator": "GPU"
  },
  "cells": [
    {
      "cell_type": "markdown",
      "metadata": {
        "id": "ajPgKEDL1_Ze"
      },
      "source": [
        "**Importing libraries**"
      ]
    },
    {
      "cell_type": "code",
      "metadata": {
        "execution": {
          "iopub.status.busy": "2021-11-13T15:04:04.621235Z",
          "iopub.execute_input": "2021-11-13T15:04:04.621632Z",
          "iopub.status.idle": "2021-11-13T15:04:04.629958Z",
          "shell.execute_reply.started": "2021-11-13T15:04:04.621605Z",
          "shell.execute_reply": "2021-11-13T15:04:04.628772Z"
        },
        "trusted": true,
        "id": "IEBQzW4p1_Zj"
      },
      "source": [
        "import numpy as np \n",
        "import pandas as pd \n",
        "import matplotlib.pyplot as plt\n",
        "from sklearn.preprocessing import MinMaxScaler\n",
        "from sklearn.model_selection import train_test_split\n",
        "import tensorflow as tf\n",
        "from tensorflow.keras.models import Sequential\n",
        "from tensorflow.keras.layers import LSTM,Dense,Dropout,Activation\n",
        "\n",
        "from tensorflow.keras.callbacks import EarlyStopping\n",
        "from tensorflow.keras.metrics import mean_absolute_error"
      ],
      "execution_count": 1,
      "outputs": []
    },
    {
      "cell_type": "markdown",
      "metadata": {
        "id": "f7t7zZrc1_Zk"
      },
      "source": [
        "**Entering the Etherium dataset**"
      ]
    },
    {
      "cell_type": "code",
      "metadata": {
        "execution": {
          "iopub.status.busy": "2021-11-13T15:04:04.631997Z",
          "iopub.execute_input": "2021-11-13T15:04:04.633323Z",
          "iopub.status.idle": "2021-11-13T15:04:04.674745Z",
          "shell.execute_reply.started": "2021-11-13T15:04:04.633283Z",
          "shell.execute_reply": "2021-11-13T15:04:04.673669Z"
        },
        "trusted": true,
        "colab": {
          "base_uri": "https://localhost:8080/",
          "height": 220
        },
        "id": "5c_l9xAm1_Zl",
        "outputId": "45cb15bf-f1e4-493c-c6d4-35390d15dbcf"
      },
      "source": [
        "data = '/content/coin_Ethereum.csv'\n",
        "dataset = pd.read_csv(data)\n",
        "chosen_col = 'Close'\n",
        "print(len(dataset))\n",
        "dataset.head()"
      ],
      "execution_count": 2,
      "outputs": [
        {
          "output_type": "stream",
          "name": "stdout",
          "text": [
            "2160\n"
          ]
        },
        {
          "output_type": "execute_result",
          "data": {
            "text/html": [
              "<div>\n",
              "<style scoped>\n",
              "    .dataframe tbody tr th:only-of-type {\n",
              "        vertical-align: middle;\n",
              "    }\n",
              "\n",
              "    .dataframe tbody tr th {\n",
              "        vertical-align: top;\n",
              "    }\n",
              "\n",
              "    .dataframe thead th {\n",
              "        text-align: right;\n",
              "    }\n",
              "</style>\n",
              "<table border=\"1\" class=\"dataframe\">\n",
              "  <thead>\n",
              "    <tr style=\"text-align: right;\">\n",
              "      <th></th>\n",
              "      <th>SNo</th>\n",
              "      <th>Name</th>\n",
              "      <th>Symbol</th>\n",
              "      <th>Date</th>\n",
              "      <th>High</th>\n",
              "      <th>Low</th>\n",
              "      <th>Open</th>\n",
              "      <th>Close</th>\n",
              "      <th>Volume</th>\n",
              "      <th>Marketcap</th>\n",
              "    </tr>\n",
              "  </thead>\n",
              "  <tbody>\n",
              "    <tr>\n",
              "      <th>0</th>\n",
              "      <td>1</td>\n",
              "      <td>Ethereum</td>\n",
              "      <td>ETH</td>\n",
              "      <td>2015-08-08 23:59:59</td>\n",
              "      <td>2.798810</td>\n",
              "      <td>0.714725</td>\n",
              "      <td>2.793760</td>\n",
              "      <td>0.753325</td>\n",
              "      <td>674188.0</td>\n",
              "      <td>4.548689e+07</td>\n",
              "    </tr>\n",
              "    <tr>\n",
              "      <th>1</th>\n",
              "      <td>2</td>\n",
              "      <td>Ethereum</td>\n",
              "      <td>ETH</td>\n",
              "      <td>2015-08-09 23:59:59</td>\n",
              "      <td>0.879810</td>\n",
              "      <td>0.629191</td>\n",
              "      <td>0.706136</td>\n",
              "      <td>0.701897</td>\n",
              "      <td>532170.0</td>\n",
              "      <td>4.239957e+07</td>\n",
              "    </tr>\n",
              "    <tr>\n",
              "      <th>2</th>\n",
              "      <td>3</td>\n",
              "      <td>Ethereum</td>\n",
              "      <td>ETH</td>\n",
              "      <td>2015-08-10 23:59:59</td>\n",
              "      <td>0.729854</td>\n",
              "      <td>0.636546</td>\n",
              "      <td>0.713989</td>\n",
              "      <td>0.708448</td>\n",
              "      <td>405283.0</td>\n",
              "      <td>4.281836e+07</td>\n",
              "    </tr>\n",
              "    <tr>\n",
              "      <th>3</th>\n",
              "      <td>4</td>\n",
              "      <td>Ethereum</td>\n",
              "      <td>ETH</td>\n",
              "      <td>2015-08-11 23:59:59</td>\n",
              "      <td>1.131410</td>\n",
              "      <td>0.663235</td>\n",
              "      <td>0.708087</td>\n",
              "      <td>1.067860</td>\n",
              "      <td>1463100.0</td>\n",
              "      <td>6.456929e+07</td>\n",
              "    </tr>\n",
              "    <tr>\n",
              "      <th>4</th>\n",
              "      <td>5</td>\n",
              "      <td>Ethereum</td>\n",
              "      <td>ETH</td>\n",
              "      <td>2015-08-12 23:59:59</td>\n",
              "      <td>1.289940</td>\n",
              "      <td>0.883608</td>\n",
              "      <td>1.058750</td>\n",
              "      <td>1.217440</td>\n",
              "      <td>2150620.0</td>\n",
              "      <td>7.364501e+07</td>\n",
              "    </tr>\n",
              "  </tbody>\n",
              "</table>\n",
              "</div>"
            ],
            "text/plain": [
              "   SNo      Name Symbol  ...     Close     Volume     Marketcap\n",
              "0    1  Ethereum    ETH  ...  0.753325   674188.0  4.548689e+07\n",
              "1    2  Ethereum    ETH  ...  0.701897   532170.0  4.239957e+07\n",
              "2    3  Ethereum    ETH  ...  0.708448   405283.0  4.281836e+07\n",
              "3    4  Ethereum    ETH  ...  1.067860  1463100.0  6.456929e+07\n",
              "4    5  Ethereum    ETH  ...  1.217440  2150620.0  7.364501e+07\n",
              "\n",
              "[5 rows x 10 columns]"
            ]
          },
          "metadata": {},
          "execution_count": 2
        }
      ]
    },
    {
      "cell_type": "markdown",
      "metadata": {
        "id": "vZSOe_so1_Zl"
      },
      "source": [
        "**Making Training and Testing data**"
      ]
    },
    {
      "cell_type": "code",
      "metadata": {
        "execution": {
          "iopub.status.busy": "2021-11-13T15:04:04.676277Z",
          "iopub.execute_input": "2021-11-13T15:04:04.676600Z",
          "iopub.status.idle": "2021-11-13T15:04:04.683543Z",
          "shell.execute_reply.started": "2021-11-13T15:04:04.676564Z",
          "shell.execute_reply": "2021-11-13T15:04:04.681305Z"
        },
        "trusted": true,
        "id": "sS8t4Cg21_Zm"
      },
      "source": [
        "split_row = len(dataset) - int(0.2 * len(dataset))\n",
        "train_data = dataset.iloc[:split_row]\n",
        "test_data = dataset.iloc[split_row:]"
      ],
      "execution_count": 3,
      "outputs": []
    },
    {
      "cell_type": "code",
      "metadata": {
        "execution": {
          "iopub.status.busy": "2021-11-13T15:04:04.686808Z",
          "iopub.execute_input": "2021-11-13T15:04:04.687793Z",
          "iopub.status.idle": "2021-11-13T15:04:05.114035Z",
          "shell.execute_reply.started": "2021-11-13T15:04:04.687751Z",
          "shell.execute_reply": "2021-11-13T15:04:05.110661Z"
        },
        "trusted": true,
        "colab": {
          "base_uri": "https://localhost:8080/",
          "height": 445
        },
        "id": "SfsRQ3V81_Zm",
        "outputId": "704ff0d1-d12c-4b7b-fa7a-b4ff8829bda1"
      },
      "source": [
        "fig, ax = plt.subplots(1, figsize=(13, 7))\n",
        "ax.plot(train_data[chosen_col], label='Train', linewidth=2)\n",
        "ax.plot(test_data[chosen_col], label='Test', linewidth=2)\n",
        "ax.set_ylabel('Price USD', fontsize=14)\n",
        "ax.set_title('', fontsize=16)\n",
        "ax.legend(loc='best', fontsize=16)"
      ],
      "execution_count": 4,
      "outputs": [
        {
          "output_type": "execute_result",
          "data": {
            "text/plain": [
              "<matplotlib.legend.Legend at 0x7f30bbde6e50>"
            ]
          },
          "metadata": {},
          "execution_count": 4
        },
        {
          "output_type": "display_data",
          "data": {
            "image/png": "[encoded data removed]",
            "text/plain": [
              "<Figure size 936x504 with 1 Axes>"
            ]
          },
          "metadata": {
            "needs_background": "light"
          }
        }
      ]
    },
    {
      "cell_type": "code",
      "metadata": {
        "execution": {
          "iopub.status.busy": "2021-11-13T15:04:05.119045Z",
          "iopub.execute_input": "2021-11-13T15:04:05.121820Z",
          "iopub.status.idle": "2021-11-13T15:04:05.133027Z",
          "shell.execute_reply.started": "2021-11-13T15:04:05.121777Z",
          "shell.execute_reply": "2021-11-13T15:04:05.131457Z"
        },
        "trusted": true,
        "colab": {
          "base_uri": "https://localhost:8080/"
        },
        "id": "Y9HkKneV1_Zn",
        "outputId": "07f09252-c70f-4137-deae-c3d2616e20cc"
      },
      "source": [
        "print(train_data[chosen_col].shape)"
      ],
      "execution_count": 5,
      "outputs": [
        {
          "output_type": "stream",
          "name": "stdout",
          "text": [
            "(1728,)\n"
          ]
        }
      ]
    },
    {
      "cell_type": "code",
      "metadata": {
        "execution": {
          "iopub.status.busy": "2021-11-13T15:04:05.137396Z",
          "iopub.execute_input": "2021-11-13T15:04:05.138656Z",
          "iopub.status.idle": "2021-11-13T15:04:05.157741Z",
          "shell.execute_reply.started": "2021-11-13T15:04:05.138601Z",
          "shell.execute_reply": "2021-11-13T15:04:05.156463Z"
        },
        "trusted": true,
        "id": "I3sZ64nA1_Zo"
      },
      "source": [
        "datacol = dataset.iloc[:, 7:8].values\n",
        "traincol = train_data.iloc[:, 7:8].values\n",
        "testcol = test_data.iloc[:, 7:8].values\n",
        "\n",
        "shaped_data = np.reshape(datacol, (-1,1))\n",
        "train_shaped = np.reshape(traincol, (-1,1))\n",
        "test_shaped = np.reshape(testcol, (-1,1))\n",
        "\n",
        "sc = MinMaxScaler(feature_range=(0,1))\n",
        "sc.fit(shaped_data)\n",
        "\n",
        "train_scaled_data = sc.transform(train_shaped)\n",
        "test_scaled_data = sc.transform(test_shaped)"
      ],
      "execution_count": 6,
      "outputs": []
    },
    {
      "cell_type": "code",
      "metadata": {
        "execution": {
          "iopub.status.busy": "2021-11-13T15:04:05.163638Z",
          "iopub.execute_input": "2021-11-13T15:04:05.166894Z",
          "iopub.status.idle": "2021-11-13T15:04:05.178066Z",
          "shell.execute_reply.started": "2021-11-13T15:04:05.166673Z",
          "shell.execute_reply": "2021-11-13T15:04:05.176695Z"
        },
        "trusted": true,
        "colab": {
          "base_uri": "https://localhost:8080/"
        },
        "id": "IqIIdAaY1_Zo",
        "outputId": "fdf014e7-6740-4967-b696-b62e8f794257"
      },
      "source": [
        "print(traincol.shape)"
      ],
      "execution_count": 7,
      "outputs": [
        {
          "output_type": "stream",
          "name": "stdout",
          "text": [
            "(1728, 1)\n"
          ]
        }
      ]
    },
    {
      "cell_type": "code",
      "metadata": {
        "execution": {
          "iopub.status.busy": "2021-11-13T15:04:05.182967Z",
          "iopub.execute_input": "2021-11-13T15:04:05.183759Z",
          "iopub.status.idle": "2021-11-13T15:04:05.202121Z",
          "shell.execute_reply.started": "2021-11-13T15:04:05.183720Z",
          "shell.execute_reply": "2021-11-13T15:04:05.201087Z"
        },
        "trusted": true,
        "id": "q5lASPVU1_Zp"
      },
      "source": [
        "X = []\n",
        "y = []\n",
        "time_steps = 50\n",
        "\n",
        "for i in range(time_steps, len(train_data)):\n",
        "    X.append(train_scaled_data[i-time_steps:i,0])\n",
        "    y.append(train_scaled_data[i, 0])\n",
        "\n",
        "X, y = np.array(X), np.array(y)\n",
        "X = np.reshape(X, (X.shape[0], X.shape[1], 1))"
      ],
      "execution_count": 8,
      "outputs": []
    },
    {
      "cell_type": "code",
      "metadata": {
        "execution": {
          "iopub.status.busy": "2021-11-13T15:04:05.207627Z",
          "iopub.execute_input": "2021-11-13T15:04:05.208313Z",
          "iopub.status.idle": "2021-11-13T15:04:05.220636Z",
          "shell.execute_reply.started": "2021-11-13T15:04:05.208275Z",
          "shell.execute_reply": "2021-11-13T15:04:05.219579Z"
        },
        "trusted": true,
        "id": "O2YNE0fT1_Zp"
      },
      "source": [
        "X_train, X_test, y_train, y_test = train_test_split(X, y, test_size=0.2)"
      ],
      "execution_count": 9,
      "outputs": []
    },
    {
      "cell_type": "markdown",
      "metadata": {
        "id": "zBMs64Vu1_Zp"
      },
      "source": [
        "**Making the model**"
      ]
    },
    {
      "cell_type": "code",
      "metadata": {
        "execution": {
          "iopub.status.busy": "2021-11-13T15:04:05.227877Z",
          "iopub.execute_input": "2021-11-13T15:04:05.228612Z",
          "iopub.status.idle": "2021-11-13T15:04:05.689375Z",
          "shell.execute_reply.started": "2021-11-13T15:04:05.228568Z",
          "shell.execute_reply": "2021-11-13T15:04:05.688473Z"
        },
        "trusted": true,
        "id": "dWxGf3Pw1_Zq"
      },
      "source": [
        "model = Sequential()\n",
        "model.add(LSTM(units=100, input_shape=(X_train.shape[1], X_train.shape[2])))\n",
        "model.add(Dropout(0.2))\n",
        "model.add(Dense(1))\n",
        "model.add(Activation('linear'))\n",
        "model.compile(optimizer='adam', loss='mse')"
      ],
      "execution_count": 10,
      "outputs": []
    },
    {
      "cell_type": "markdown",
      "metadata": {
        "id": "odhLMs_61_Zq"
      },
      "source": [
        "**Running the model**"
      ]
    },
    {
      "cell_type": "code",
      "metadata": {
        "execution": {
          "iopub.status.busy": "2021-11-13T15:04:05.691228Z",
          "iopub.execute_input": "2021-11-13T15:04:05.691829Z",
          "iopub.status.idle": "2021-11-13T15:04:23.078690Z",
          "shell.execute_reply.started": "2021-11-13T15:04:05.691774Z",
          "shell.execute_reply": "2021-11-13T15:04:23.077807Z"
        },
        "trusted": true,
        "colab": {
          "base_uri": "https://localhost:8080/"
        },
        "id": "MRljOHrW1_Zq",
        "outputId": "b7e1d818-40cd-4e0c-d5cb-f36f8a22f0f5"
      },
      "source": [
        "callback = EarlyStopping(monitor='loss', patience=10, restore_best_weights=True)\n",
        "history = model.fit(X_train, y_train, validation_data=(X_test, y_test), epochs=100, batch_size=32, verbose=1, callbacks=[callback], shuffle=True)"
      ],
      "execution_count": 11,
      "outputs": [
        {
          "output_type": "stream",
          "name": "stdout",
          "text": [
            "Epoch 1/100\n",
            "42/42 [==============================] - 5s 57ms/step - loss: 5.9006e-04 - val_loss: 1.0731e-04\n",
            "Epoch 2/100\n",
            "42/42 [==============================] - 2s 42ms/step - loss: 1.2917e-04 - val_loss: 1.1092e-04\n",
            "Epoch 3/100\n",
            "42/42 [==============================] - 2s 43ms/step - loss: 1.3931e-04 - val_loss: 8.5686e-05\n",
            "Epoch 4/100\n",
            "42/42 [==============================] - 2s 42ms/step - loss: 1.2668e-04 - val_loss: 8.7286e-05\n",
            "Epoch 5/100\n",
            "42/42 [==============================] - 2s 43ms/step - loss: 1.0669e-04 - val_loss: 7.8201e-05\n",
            "Epoch 6/100\n",
            "42/42 [==============================] - 2s 43ms/step - loss: 1.1066e-04 - val_loss: 7.2437e-05\n",
            "Epoch 7/100\n",
            "42/42 [==============================] - 2s 43ms/step - loss: 8.9999e-05 - val_loss: 7.0870e-05\n",
            "Epoch 8/100\n",
            "42/42 [==============================] - 2s 42ms/step - loss: 1.1127e-04 - val_loss: 9.6416e-05\n",
            "Epoch 9/100\n",
            "42/42 [==============================] - 2s 43ms/step - loss: 1.0992e-04 - val_loss: 6.4366e-05\n",
            "Epoch 10/100\n",
            "42/42 [==============================] - 2s 42ms/step - loss: 7.9483e-05 - val_loss: 6.3765e-05\n",
            "Epoch 11/100\n",
            "42/42 [==============================] - 2s 44ms/step - loss: 7.0041e-05 - val_loss: 6.6182e-05\n",
            "Epoch 12/100\n",
            "42/42 [==============================] - 2s 43ms/step - loss: 7.7621e-05 - val_loss: 7.0154e-05\n",
            "Epoch 13/100\n",
            "42/42 [==============================] - 2s 42ms/step - loss: 7.3207e-05 - val_loss: 5.6447e-05\n",
            "Epoch 14/100\n",
            "42/42 [==============================] - 2s 42ms/step - loss: 8.3909e-05 - val_loss: 5.5768e-05\n",
            "Epoch 15/100\n",
            "42/42 [==============================] - 2s 42ms/step - loss: 6.5624e-05 - val_loss: 5.4810e-05\n",
            "Epoch 16/100\n",
            "42/42 [==============================] - 2s 42ms/step - loss: 6.5535e-05 - val_loss: 5.0850e-05\n",
            "Epoch 17/100\n",
            "42/42 [==============================] - 2s 42ms/step - loss: 6.4623e-05 - val_loss: 5.2988e-05\n",
            "Epoch 18/100\n",
            "42/42 [==============================] - 2s 42ms/step - loss: 6.3337e-05 - val_loss: 6.1305e-05\n",
            "Epoch 19/100\n",
            "42/42 [==============================] - 2s 42ms/step - loss: 5.7386e-05 - val_loss: 5.2187e-05\n",
            "Epoch 20/100\n",
            "42/42 [==============================] - 2s 42ms/step - loss: 6.0444e-05 - val_loss: 4.6010e-05\n",
            "Epoch 21/100\n",
            "42/42 [==============================] - 2s 43ms/step - loss: 5.9047e-05 - val_loss: 4.9559e-05\n",
            "Epoch 22/100\n",
            "42/42 [==============================] - 2s 43ms/step - loss: 6.5711e-05 - val_loss: 4.9446e-05\n",
            "Epoch 23/100\n",
            "42/42 [==============================] - 2s 43ms/step - loss: 5.8842e-05 - val_loss: 5.3041e-05\n",
            "Epoch 24/100\n",
            "42/42 [==============================] - 2s 43ms/step - loss: 5.5042e-05 - val_loss: 4.4873e-05\n",
            "Epoch 25/100\n",
            "42/42 [==============================] - 2s 42ms/step - loss: 4.9829e-05 - val_loss: 4.7950e-05\n",
            "Epoch 26/100\n",
            "42/42 [==============================] - 2s 41ms/step - loss: 5.0952e-05 - val_loss: 4.6059e-05\n",
            "Epoch 27/100\n",
            "42/42 [==============================] - 2s 42ms/step - loss: 5.6521e-05 - val_loss: 4.1978e-05\n",
            "Epoch 28/100\n",
            "42/42 [==============================] - 2s 42ms/step - loss: 4.6590e-05 - val_loss: 4.9868e-05\n",
            "Epoch 29/100\n",
            "42/42 [==============================] - 2s 43ms/step - loss: 5.0861e-05 - val_loss: 4.4802e-05\n",
            "Epoch 30/100\n",
            "42/42 [==============================] - 2s 44ms/step - loss: 5.4117e-05 - val_loss: 4.4597e-05\n",
            "Epoch 31/100\n",
            "42/42 [==============================] - 2s 44ms/step - loss: 6.1844e-05 - val_loss: 4.7975e-05\n",
            "Epoch 32/100\n",
            "42/42 [==============================] - 2s 43ms/step - loss: 5.2973e-05 - val_loss: 4.1511e-05\n",
            "Epoch 33/100\n",
            "42/42 [==============================] - 2s 42ms/step - loss: 6.2772e-05 - val_loss: 5.0527e-05\n",
            "Epoch 34/100\n",
            "42/42 [==============================] - 2s 43ms/step - loss: 5.0594e-05 - val_loss: 4.6576e-05\n",
            "Epoch 35/100\n",
            "42/42 [==============================] - 2s 43ms/step - loss: 4.4020e-05 - val_loss: 4.3376e-05\n",
            "Epoch 36/100\n",
            "42/42 [==============================] - 2s 43ms/step - loss: 4.8130e-05 - val_loss: 4.1957e-05\n",
            "Epoch 37/100\n",
            "42/42 [==============================] - 2s 43ms/step - loss: 4.8651e-05 - val_loss: 4.1376e-05\n",
            "Epoch 38/100\n",
            "42/42 [==============================] - 2s 43ms/step - loss: 4.9137e-05 - val_loss: 4.7739e-05\n",
            "Epoch 39/100\n",
            "42/42 [==============================] - 2s 42ms/step - loss: 5.4667e-05 - val_loss: 4.0966e-05\n",
            "Epoch 40/100\n",
            "42/42 [==============================] - 2s 42ms/step - loss: 5.8613e-05 - val_loss: 4.2576e-05\n",
            "Epoch 41/100\n",
            "42/42 [==============================] - 2s 44ms/step - loss: 5.8134e-05 - val_loss: 4.1396e-05\n",
            "Epoch 42/100\n",
            "42/42 [==============================] - 2s 44ms/step - loss: 4.9548e-05 - val_loss: 4.2128e-05\n",
            "Epoch 43/100\n",
            "42/42 [==============================] - 2s 43ms/step - loss: 4.4004e-05 - val_loss: 4.0728e-05\n",
            "Epoch 44/100\n",
            "42/42 [==============================] - 2s 43ms/step - loss: 4.2916e-05 - val_loss: 4.7779e-05\n",
            "Epoch 45/100\n",
            "42/42 [==============================] - 2s 43ms/step - loss: 5.0477e-05 - val_loss: 4.1674e-05\n",
            "Epoch 46/100\n",
            "42/42 [==============================] - 2s 43ms/step - loss: 5.2551e-05 - val_loss: 4.8210e-05\n",
            "Epoch 47/100\n",
            "42/42 [==============================] - 2s 43ms/step - loss: 5.0104e-05 - val_loss: 4.3097e-05\n",
            "Epoch 48/100\n",
            "42/42 [==============================] - 2s 43ms/step - loss: 4.5009e-05 - val_loss: 4.3562e-05\n",
            "Epoch 49/100\n",
            "42/42 [==============================] - 2s 42ms/step - loss: 4.9547e-05 - val_loss: 4.2425e-05\n",
            "Epoch 50/100\n",
            "42/42 [==============================] - 2s 43ms/step - loss: 4.3697e-05 - val_loss: 4.1866e-05\n",
            "Epoch 51/100\n",
            "42/42 [==============================] - 2s 44ms/step - loss: 4.5641e-05 - val_loss: 4.7201e-05\n",
            "Epoch 52/100\n",
            "42/42 [==============================] - 2s 44ms/step - loss: 4.5581e-05 - val_loss: 4.5321e-05\n",
            "Epoch 53/100\n",
            "42/42 [==============================] - 2s 44ms/step - loss: 4.1370e-05 - val_loss: 5.0565e-05\n",
            "Epoch 54/100\n",
            "42/42 [==============================] - 2s 42ms/step - loss: 4.4430e-05 - val_loss: 3.9120e-05\n",
            "Epoch 55/100\n",
            "42/42 [==============================] - 2s 43ms/step - loss: 4.3939e-05 - val_loss: 4.5519e-05\n",
            "Epoch 56/100\n",
            "42/42 [==============================] - 2s 43ms/step - loss: 4.9725e-05 - val_loss: 4.2625e-05\n",
            "Epoch 57/100\n",
            "42/42 [==============================] - 2s 43ms/step - loss: 4.9714e-05 - val_loss: 3.9350e-05\n",
            "Epoch 58/100\n",
            "42/42 [==============================] - 2s 45ms/step - loss: 4.6063e-05 - val_loss: 4.4283e-05\n",
            "Epoch 59/100\n",
            "42/42 [==============================] - 2s 43ms/step - loss: 4.7953e-05 - val_loss: 4.1320e-05\n",
            "Epoch 60/100\n",
            "42/42 [==============================] - 2s 44ms/step - loss: 4.0762e-05 - val_loss: 4.7242e-05\n",
            "Epoch 61/100\n",
            "42/42 [==============================] - 2s 45ms/step - loss: 4.5966e-05 - val_loss: 3.8476e-05\n",
            "Epoch 62/100\n",
            "42/42 [==============================] - 2s 44ms/step - loss: 3.7974e-05 - val_loss: 4.6546e-05\n",
            "Epoch 63/100\n",
            "42/42 [==============================] - 2s 42ms/step - loss: 4.5542e-05 - val_loss: 3.9564e-05\n",
            "Epoch 64/100\n",
            "42/42 [==============================] - 2s 42ms/step - loss: 3.9595e-05 - val_loss: 4.6110e-05\n",
            "Epoch 65/100\n",
            "42/42 [==============================] - 2s 43ms/step - loss: 4.3875e-05 - val_loss: 4.0655e-05\n",
            "Epoch 66/100\n",
            "42/42 [==============================] - 2s 44ms/step - loss: 3.6822e-05 - val_loss: 3.8643e-05\n",
            "Epoch 67/100\n",
            "42/42 [==============================] - 2s 44ms/step - loss: 4.6518e-05 - val_loss: 4.0793e-05\n",
            "Epoch 68/100\n",
            "42/42 [==============================] - 2s 44ms/step - loss: 4.1439e-05 - val_loss: 4.2379e-05\n",
            "Epoch 69/100\n",
            "42/42 [==============================] - 2s 42ms/step - loss: 4.0284e-05 - val_loss: 3.7851e-05\n",
            "Epoch 70/100\n",
            "42/42 [==============================] - 2s 42ms/step - loss: 4.0927e-05 - val_loss: 4.3738e-05\n",
            "Epoch 71/100\n",
            "42/42 [==============================] - 2s 43ms/step - loss: 4.1342e-05 - val_loss: 3.8051e-05\n",
            "Epoch 72/100\n",
            "42/42 [==============================] - 2s 44ms/step - loss: 4.0230e-05 - val_loss: 4.1746e-05\n",
            "Epoch 73/100\n",
            "42/42 [==============================] - 2s 44ms/step - loss: 4.0928e-05 - val_loss: 3.7206e-05\n",
            "Epoch 74/100\n",
            "42/42 [==============================] - 2s 42ms/step - loss: 3.5773e-05 - val_loss: 3.7542e-05\n",
            "Epoch 75/100\n",
            "42/42 [==============================] - 2s 42ms/step - loss: 4.0248e-05 - val_loss: 3.8366e-05\n",
            "Epoch 76/100\n",
            "42/42 [==============================] - 2s 43ms/step - loss: 4.0782e-05 - val_loss: 5.2238e-05\n",
            "Epoch 77/100\n",
            "42/42 [==============================] - 2s 42ms/step - loss: 4.5992e-05 - val_loss: 3.7375e-05\n",
            "Epoch 78/100\n",
            "42/42 [==============================] - 2s 42ms/step - loss: 4.5012e-05 - val_loss: 3.9493e-05\n",
            "Epoch 79/100\n",
            "42/42 [==============================] - 2s 42ms/step - loss: 4.2815e-05 - val_loss: 3.9023e-05\n",
            "Epoch 80/100\n",
            "42/42 [==============================] - 2s 41ms/step - loss: 4.0768e-05 - val_loss: 4.2097e-05\n",
            "Epoch 81/100\n",
            "42/42 [==============================] - 2s 42ms/step - loss: 3.9795e-05 - val_loss: 4.8531e-05\n",
            "Epoch 82/100\n",
            "42/42 [==============================] - 2s 42ms/step - loss: 4.2216e-05 - val_loss: 4.3942e-05\n",
            "Epoch 83/100\n",
            "42/42 [==============================] - 2s 42ms/step - loss: 4.5950e-05 - val_loss: 4.1302e-05\n",
            "Epoch 84/100\n",
            "42/42 [==============================] - 2s 43ms/step - loss: 4.4286e-05 - val_loss: 3.8486e-05\n"
          ]
        }
      ]
    },
    {
      "cell_type": "markdown",
      "metadata": {
        "id": "LZkYRMZc1_Zr"
      },
      "source": [
        "loss and validation loss both are decreasing therefore the model is performing well"
      ]
    },
    {
      "cell_type": "code",
      "metadata": {
        "execution": {
          "iopub.status.busy": "2021-11-13T15:04:23.080158Z",
          "iopub.execute_input": "2021-11-13T15:04:23.080431Z",
          "iopub.status.idle": "2021-11-13T15:04:23.339471Z",
          "shell.execute_reply.started": "2021-11-13T15:04:23.080395Z",
          "shell.execute_reply": "2021-11-13T15:04:23.338418Z"
        },
        "trusted": true,
        "colab": {
          "base_uri": "https://localhost:8080/",
          "height": 282
        },
        "id": "6IzIjv4w1_Zr",
        "outputId": "0405d5f2-543f-4810-cdad-275bc7b0a08a"
      },
      "source": [
        "plt.plot(history.history['loss'], label = 'loss')\n",
        "plt.plot(history.history['val_loss'], label = 'val_loss')\n",
        "plt.legend()"
      ],
      "execution_count": 12,
      "outputs": [
        {
          "output_type": "execute_result",
          "data": {
            "text/plain": [
              "<matplotlib.legend.Legend at 0x7f309be81f50>"
            ]
          },
          "metadata": {},
          "execution_count": 12
        },
        {
          "output_type": "display_data",
          "data": {
            "image/png": "[encoded data removed]",
            "text/plain": [
              "<Figure size 432x288 with 1 Axes>"
            ]
          },
          "metadata": {
            "needs_background": "light"
          }
        }
      ]
    },
    {
      "cell_type": "markdown",
      "metadata": {
        "id": "9AnLj32J1_Zr"
      },
      "source": [
        "This clearly shows that the model is neither overfitting nor underfitting"
      ]
    },
    {
      "cell_type": "code",
      "metadata": {
        "execution": {
          "iopub.status.busy": "2021-11-13T15:04:23.341227Z",
          "iopub.execute_input": "2021-11-13T15:04:23.341582Z",
          "iopub.status.idle": "2021-11-13T15:04:23.758781Z",
          "shell.execute_reply.started": "2021-11-13T15:04:23.341540Z",
          "shell.execute_reply": "2021-11-13T15:04:23.757808Z"
        },
        "trusted": true,
        "id": "tWBCYMFd1_Zs"
      },
      "source": [
        "X_testing = []\n",
        "y_testing = []\n",
        "\n",
        "for i in range(time_steps, len(test_data)):\n",
        "    X_testing.append(test_scaled_data[i-time_steps:i,0])\n",
        "    y_testing.append(test_scaled_data[i, 0])\n",
        "\n",
        "X_testing, y_testing = np.array(X_testing), np.array(y_testing)\n",
        "X_testing = np.reshape(X_testing, (X_testing.shape[0], X_testing.shape[1], 1))\n",
        "\n",
        "predicted_price = model.predict(X_testing)\n",
        "inv_price = sc.inverse_transform(predicted_price)\n",
        "real_price = np.reshape(y_testing, (-1,1))\n",
        "real_price = sc.inverse_transform(real_price)"
      ],
      "execution_count": 13,
      "outputs": []
    },
    {
      "cell_type": "code",
      "metadata": {
        "execution": {
          "iopub.status.busy": "2021-11-13T15:04:23.760657Z",
          "iopub.execute_input": "2021-11-13T15:04:23.760955Z",
          "iopub.status.idle": "2021-11-13T15:04:24.081508Z",
          "shell.execute_reply.started": "2021-11-13T15:04:23.760914Z",
          "shell.execute_reply": "2021-11-13T15:04:24.080517Z"
        },
        "trusted": true,
        "colab": {
          "base_uri": "https://localhost:8080/",
          "height": 445
        },
        "id": "0MhOXCBQ1_Zs",
        "outputId": "4e29f7ed-b2c1-4f52-be7d-62a84f1e1fc4"
      },
      "source": [
        "fig, ax = plt.subplots(1, figsize=(13, 7))\n",
        "ax.plot(real_price, label='Real', linewidth=2)\n",
        "ax.plot(inv_price, label='Pred', linewidth=2)\n",
        "ax.set_ylabel('Price USD', fontsize=14)\n",
        "ax.set_title('', fontsize=16)\n",
        "ax.legend(loc='best', fontsize=16)"
      ],
      "execution_count": 14,
      "outputs": [
        {
          "output_type": "execute_result",
          "data": {
            "text/plain": [
              "<matplotlib.legend.Legend at 0x7f309e0e3850>"
            ]
          },
          "metadata": {},
          "execution_count": 14
        },
        {
          "output_type": "display_data",
          "data": {
            "image/png": "[encoded data removed]",
            "text/plain": [
              "<Figure size 936x504 with 1 Axes>"
            ]
          },
          "metadata": {
            "needs_background": "light"
          }
        }
      ]
    },
    {
      "cell_type": "markdown",
      "metadata": {
        "id": "q-EchVif1_Zs"
      },
      "source": [
        "**Now we will test this model on a different dataset of Bitcoin**"
      ]
    },
    {
      "cell_type": "code",
      "metadata": {
        "execution": {
          "iopub.status.busy": "2021-11-13T15:04:24.082851Z",
          "iopub.execute_input": "2021-11-13T15:04:24.083880Z",
          "iopub.status.idle": "2021-11-13T15:04:24.113208Z",
          "shell.execute_reply.started": "2021-11-13T15:04:24.083842Z",
          "shell.execute_reply": "2021-11-13T15:04:24.112259Z"
        },
        "trusted": true,
        "id": "1eiPzEH71_Zt"
      },
      "source": [
        "model.save(\"crypto_pred.h5\")"
      ],
      "execution_count": 15,
      "outputs": []
    },
    {
      "cell_type": "code",
      "metadata": {
        "execution": {
          "iopub.status.busy": "2021-11-13T15:04:24.114924Z",
          "iopub.execute_input": "2021-11-13T15:04:24.115291Z",
          "iopub.status.idle": "2021-11-13T15:04:24.431536Z",
          "shell.execute_reply.started": "2021-11-13T15:04:24.115252Z",
          "shell.execute_reply": "2021-11-13T15:04:24.430584Z"
        },
        "trusted": true,
        "id": "yCilBkLx1_Zt"
      },
      "source": [
        "from tensorflow import keras\n",
        "new_model = keras.models.load_model('crypto_pred.h5')"
      ],
      "execution_count": 16,
      "outputs": []
    },
    {
      "cell_type": "code",
      "metadata": {
        "execution": {
          "iopub.status.busy": "2021-11-13T15:04:24.432896Z",
          "iopub.execute_input": "2021-11-13T15:04:24.433182Z",
          "iopub.status.idle": "2021-11-13T15:04:24.887199Z",
          "shell.execute_reply.started": "2021-11-13T15:04:24.433144Z",
          "shell.execute_reply": "2021-11-13T15:04:24.886172Z"
        },
        "trusted": true,
        "colab": {
          "base_uri": "https://localhost:8080/"
        },
        "id": "rKSIsChM1_Zt",
        "outputId": "a5219434-9d0a-4bc0-8ede-86d116776b84"
      },
      "source": [
        "data = '/content/coin_Bitcoin.csv'\n",
        "dataset = pd.read_csv(data)\n",
        "chosen_col = 'Close'\n",
        "print(len(dataset))\n",
        "split_row = len(dataset) - int(0.2 * len(dataset))\n",
        "train_data = dataset.iloc[:split_row]\n",
        "test_data = dataset.iloc[split_row:]\n",
        "datacol = dataset.iloc[:, 7:8].values\n",
        "traincol = train_data.iloc[:, 7:8].values\n",
        "testcol = test_data.iloc[:, 7:8].values\n",
        "\n",
        "shaped_data = np.reshape(datacol, (-1,1))\n",
        "train_shaped = np.reshape(traincol, (-1,1))\n",
        "test_shaped = np.reshape(testcol, (-1,1))\n",
        "\n",
        "sc = MinMaxScaler(feature_range=(0,1))\n",
        "sc.fit(shaped_data)\n",
        "\n",
        "train_scaled_data = sc.transform(train_shaped)\n",
        "test_scaled_data = sc.transform(test_shaped)\n",
        "X = []\n",
        "y = []\n",
        "time_steps = 50\n",
        "\n",
        "for i in range(time_steps, len(train_data)):\n",
        "    X.append(train_scaled_data[i-time_steps:i,0])\n",
        "    y.append(train_scaled_data[i, 0])\n",
        "\n",
        "X, y = np.array(X), np.array(y)\n",
        "X = np.reshape(X, (X.shape[0], X.shape[1], 1))\n",
        "X_testing = []\n",
        "y_testing = []\n",
        "\n",
        "for i in range(time_steps, len(test_data)):\n",
        "    X_testing.append(test_scaled_data[i-time_steps:i,0])\n",
        "    y_testing.append(test_scaled_data[i, 0])\n",
        "\n",
        "X_testing, y_testing = np.array(X_testing), np.array(y_testing)\n",
        "X_testing = np.reshape(X_testing, (X_testing.shape[0], X_testing.shape[1], 1))\n",
        "predicted_price = new_model.predict(X_testing)\n",
        "inv_price = sc.inverse_transform(predicted_price)\n",
        "real_price = np.reshape(y_testing, (-1,1))\n",
        "real_price = sc.inverse_transform(real_price)"
      ],
      "execution_count": 17,
      "outputs": [
        {
          "output_type": "stream",
          "name": "stdout",
          "text": [
            "2991\n"
          ]
        }
      ]
    },
    {
      "cell_type": "code",
      "metadata": {
        "execution": {
          "iopub.status.busy": "2021-11-13T15:04:24.890709Z",
          "iopub.execute_input": "2021-11-13T15:04:24.890943Z",
          "iopub.status.idle": "2021-11-13T15:04:25.180425Z",
          "shell.execute_reply.started": "2021-11-13T15:04:24.890917Z",
          "shell.execute_reply": "2021-11-13T15:04:25.179432Z"
        },
        "trusted": true,
        "colab": {
          "base_uri": "https://localhost:8080/",
          "height": 445
        },
        "id": "fjUQLy0d1_Zt",
        "outputId": "b6b1b340-2f78-4e60-ff04-e8e761ad3f3a"
      },
      "source": [
        "fig, ax = plt.subplots(1, figsize=(13, 7))\n",
        "ax.plot(real_price, label='Real', linewidth=2)\n",
        "ax.plot(inv_price, label='Pred', linewidth=2)\n",
        "ax.set_ylabel('Price USD', fontsize=14)\n",
        "ax.set_title('', fontsize=16)\n",
        "ax.legend(loc='best', fontsize=16)"
      ],
      "execution_count": 18,
      "outputs": [
        {
          "output_type": "execute_result",
          "data": {
            "text/plain": [
              "<matplotlib.legend.Legend at 0x7f309f8e6750>"
            ]
          },
          "metadata": {},
          "execution_count": 18
        },
        {
          "output_type": "display_data",
          "data": {
            "image/png": "[encoded data removed]",
            "text/plain": [
              "<Figure size 936x504 with 1 Axes>"
            ]
          },
          "metadata": {
            "needs_background": "light"
          }
        }
      ]
    },
    {
      "cell_type": "markdown",
      "metadata": {
        "id": "dD3tvp2k1_Zu"
      },
      "source": [
        "**Hence as observed, the model gives very accurate predictions on a new dataset**"
      ]
    }
  ]
}